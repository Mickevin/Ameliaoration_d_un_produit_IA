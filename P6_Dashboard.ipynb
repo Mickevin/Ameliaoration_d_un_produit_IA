{
 "cells": [
  {
   "cell_type": "markdown",
   "id": "23eaeecc",
   "metadata": {},
   "source": [
    "# Dashboard | P6 - Améliorez le produit IA de votre start-up\n",
    "\n",
    "<img src='https://user.oc-static.com/upload/2019/10/22/15717355057511_Capture%20d%E2%80%99e%CC%81cran%202019-10-22%20a%CC%80%2011.07.21.png'>\n",
    "\n",
    "\n",
    "# Traitement et analyse des commentaires"
   ]
  },
  {
   "cell_type": "code",
   "execution_count": 3,
   "id": "9bc18dac",
   "metadata": {
    "hide_input": false,
    "scrolled": false
   },
   "outputs": [
    {
     "data": {
      "application/vnd.jupyter.widget-view+json": {
       "model_id": "c23aef44bf9f4c8dbcf2fb8dc640c2bb",
       "version_major": 2,
       "version_minor": 0
      },
      "text/plain": [
       "interactive(children=(Dropdown(description='data', options=('Data saved', 'Collect now'), value='Data saved'),…"
      ]
     },
     "metadata": {},
     "output_type": "display_data"
    },
    {
     "name": "stdout",
     "output_type": "stream",
     "text": [
      "CPU times: user 1min 32s, sys: 21.1 s, total: 1min 53s\n",
      "Wall time: 27.9 s\n"
     ]
    }
   ],
   "source": [
    "%%time\n",
    "from functions import *\n",
    "import warnings\n",
    "import urllib\n",
    "from PIL import Image\n",
    "warnings.filterwarnings('ignore')\n",
    "from tensorflow import keras\n",
    "model_load = keras.models.load_model('utile/new_model')\n",
    "\n",
    "@widgets.interact(data = ['Data saved','Collect now'])\n",
    "def run(data):\n",
    "    pyLDAvis.enable_notebook()\n",
    "    \n",
    "    if data == 'Data saved':\n",
    "        df = pd.read_csv('utile/df_prétraitement.csv')\n",
    "        with open('utile/tokens', 'rb') as f1:tokens = pickle.load(f1)\n",
    "            \n",
    "        @widgets.interact(topics = (2,5,1))\n",
    "        def num_topics(topics):\n",
    "            traitement_txt(df, tokens,topics)\n",
    "            \n",
    "            \n",
    "    else :\n",
    "        data_collect()\n",
    "        @widgets.interact(Labelisation = [False,True])\n",
    "        def run(Labelisation):\n",
    "            if Labelisation:\n",
    "                data= pd.read_csv('utile/data_colected.csv')\n",
    "\n",
    "                @widgets.interact(name = data.name.unique(), n = (0,2,1))\n",
    "                def run3(name,n):\n",
    "                    classe = ['drink', 'food', 'interior', 'menu', 'outside']\n",
    "                    api_key = \"PQg94HLFE1DrrNWvV4wqx2FbtCjPwAQtpG8h5tOJcA7p2t3tPmziYJi27gNXmdD5L8qp9WxAd83tvoRLtuggr3tzofjAz2GARhezUc1l_VN3Fv-x1bW9Q5KHCwWxYXYx\"\n",
    "                    yelp_api = YelpAPI(api_key,timeout_s=10)\n",
    "                    photo = yelp_api.business_query(data[data.name == name].business_id.unique()[0])['photos']\n",
    "\n",
    "                    req = urllib.request.urlopen(photo[n])\n",
    "                    arr = np.asarray(bytearray(req.read()), dtype=np.uint8)\n",
    "                    img = cv2.imdecode(arr, 0)\n",
    "                    traitement(img,True)\n",
    "                    \n",
    "                    img_ = cv2.imdecode(arr, 1)\n",
    "                    image = Image.fromarray(img_.astype(np.uint8))\n",
    "\n",
    "                    print('Labélisation automatique : ',\n",
    "                          classe[model_load.predict(np.array([np.array(image.resize((200,200)))])).argmax()])"
   ]
  },
  {
   "cell_type": "markdown",
   "id": "e3e06fbe",
   "metadata": {},
   "source": [
    "# Traitement des images"
   ]
  },
  {
   "cell_type": "code",
   "execution_count": 11,
   "id": "40b5c7fe",
   "metadata": {},
   "outputs": [
    {
     "data": {
      "application/vnd.jupyter.widget-view+json": {
       "model_id": "3c565486488d4bbfa828f1c58484f358",
       "version_major": 2,
       "version_minor": 0
      },
      "text/plain": [
       "interactive(children=(Dropdown(description='name', options=('Manteigaria', 'Cervejaria Ramiro', 'Pastéis de Be…"
      ]
     },
     "metadata": {},
     "output_type": "display_data"
    }
   ],
   "source": [
    "data= pd.read_csv('utile/data_colected.csv')\n",
    "@widgets.interact(name = data.name.unique(), n = (0,2,1))\n",
    "def run3(name,n):\n",
    "    \n",
    "    classe = ['drink', 'food', 'interior', 'menu', 'outside']\n",
    "    api_key = \"PQg94HLFE1DrrNWvV4wqx2FbtCjPwAQtpG8h5tOJcA7p2t3tPmziYJi27gNXmdD5L8qp9WxAd83tvoRLtuggr3tzofjAz2GARhezUc1l_VN3Fv-x1bW9Q5KHCwWxYXYx\"\n",
    "    yelp_api = YelpAPI(api_key,timeout_s=10)\n",
    "    photo = yelp_api.business_query(data[data.name == name].business_id.unique()[0])['photos']\n",
    "\n",
    "    req = urllib.request.urlopen(photo[n])\n",
    "    arr = np.asarray(bytearray(req.read()), dtype=np.uint8)\n",
    "    img = cv2.imdecode(arr, 0)\n",
    "    traitement(img,True)\n",
    "\n",
    "    img_ = cv2.imdecode(arr, 1)\n",
    "    image = Image.fromarray(img_.astype(np.uint8))\n",
    "\n",
    "    print('Labélisation automatique : ',\n",
    "          classe[model_load.predict(np.array([np.array(image.resize((200,200)))])).argmax()])"
   ]
  },
  {
   "cell_type": "markdown",
   "id": "aef85354",
   "metadata": {},
   "source": [
    "# Segmentation des données images"
   ]
  },
  {
   "cell_type": "code",
   "execution_count": 7,
   "id": "526a9ef5",
   "metadata": {},
   "outputs": [
    {
     "data": {
      "application/vnd.jupyter.widget-view+json": {
       "model_id": "370dca7fd96a499a8fb083a7e40c6a94",
       "version_major": 2,
       "version_minor": 0
      },
      "text/plain": [
       "interactive(children=(Dropdown(description='data', options=('SIFT', 'Transfert'), value='SIFT'), Output()), _d…"
      ]
     },
     "metadata": {},
     "output_type": "display_data"
    }
   ],
   "source": [
    "@widgets.interact(data = ['SIFT','Transfert'],)\n",
    "def run2(data):   \n",
    "    df = pd.read_csv('utile/data_photo.csv')\n",
    "    \n",
    "    if data == 'SIFT':\n",
    "        with open('utile/im_features', 'rb') as f1:im_features = pickle.load(f1)\n",
    "        df_tsne, X_tsne = show_tsne(im_features, df)\n",
    "        show_kmeans(df_tsne, X_tsne,df)\n",
    "        \n",
    "    if data == 'Transfert':\n",
    "        with open('utile/im_features_tensor', 'rb') as f1:im_features = pickle.load(f1)\n",
    "        df_tsne, X_tsne = show_tsne(im_features, df)\n",
    "        show_kmeans(df_tsne, X_tsne,df)"
   ]
  }
 ],
 "metadata": {
  "kernelspec": {
   "display_name": "Python 3 (ipykernel)",
   "language": "python",
   "name": "python3"
  },
  "language_info": {
   "codemirror_mode": {
    "name": "ipython",
    "version": 3
   },
   "file_extension": ".py",
   "mimetype": "text/x-python",
   "name": "python",
   "nbconvert_exporter": "python",
   "pygments_lexer": "ipython3",
   "version": "3.8.12"
  },
  "toc": {
   "base_numbering": 1,
   "nav_menu": {},
   "number_sections": true,
   "sideBar": true,
   "skip_h1_title": false,
   "title_cell": "Table of Contents",
   "title_sidebar": "Contents",
   "toc_cell": false,
   "toc_position": {},
   "toc_section_display": true,
   "toc_window_display": false
  }
 },
 "nbformat": 4,
 "nbformat_minor": 5
}
